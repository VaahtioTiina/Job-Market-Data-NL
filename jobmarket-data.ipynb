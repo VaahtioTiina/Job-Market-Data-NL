{
 "cells": [
  {
   "cell_type": "markdown",
   "metadata": {},
   "source": [
    "# Job Market for Data Professionals in NL - Web Scraping"
   ]
  },
  {
   "cell_type": "markdown",
   "metadata": {},
   "source": [
    "This project was conducted as the module-2 end project in the data analytics bootcamp at Ironhack. \n",
    "\n",
    "The goal of the project is to analyze the current job market for data professionals in the Netherlands.\n",
    "\n",
    "This notebook is the first part of the project, and is focused on scraping the current job listings from indeed.nl"
   ]
  },
  {
   "cell_type": "code",
   "execution_count": 3,
   "metadata": {},
   "outputs": [],
   "source": [
    "# Import Libraries \n",
    "import pandas as pd\n",
    "from bs4 import BeautifulSoup\n",
    "from selenium import webdriver\n",
    "import requests\n",
    "import re"
   ]
  },
  {
   "cell_type": "code",
   "execution_count": 4,
   "metadata": {},
   "outputs": [],
   "source": [
    "# Search keywords Data Engineer, Data Analyst, Data Scientist, Business Intelligence\n",
    "url = 'https://www.indeed.nl/jobs?q=data+analist%2C+data+scientist%2C+data+engineer%2C+business+intelligence&l=Nederland&sort=date'"
   ]
  },
  {
   "cell_type": "code",
   "execution_count": 5,
   "metadata": {},
   "outputs": [],
   "source": [
    "driver = webdriver.Chrome(\"./chromedriver/chromedriver.exe\")"
   ]
  },
  {
   "cell_type": "code",
   "execution_count": 6,
   "metadata": {},
   "outputs": [],
   "source": [
    "jobs = pd.DataFrame(columns=[\"Title\", \"Location\", \"Company\", \"Salary\", \"Since\", \"Description\", 'Company Url'])\n",
    "\n",
    "\n",
    "# Iterate through the result pages \n",
    "for i in range(0, 1000, 10):\n",
    "    \n",
    "    driver.get(url+'&start='+str(i))\n",
    "    driver.implicitly_wait(4)\n",
    "    \n",
    "    all_jobs = driver.find_elements_by_class_name('result')\n",
    "    \n",
    "    for job in all_jobs:\n",
    "        result_html = job.get_attribute('innerHTML')\n",
    "        soup = BeautifulSoup(result_html, 'html.parser')\n",
    "\n",
    "        try:\n",
    "            title = soup.find(\"a\", class_=\"jobtitle\").text.replace('\\n', '')\n",
    "        except:\n",
    "            title = 'N/A'\n",
    "\n",
    "        try:\n",
    "            company = soup.find(class_=\"company\").text.replace('\\n', '').strip()\n",
    "        except:\n",
    "            company = 'N/A'\n",
    "     \n",
    "\n",
    "        try: \n",
    "            location = soup.find(class_=\"location accessible-contrast-color-location\").text\n",
    "        except:\n",
    "            location = 'N/A'\n",
    "\n",
    "        try:\n",
    "            salary = soup.find(class_=\"salary\").text.replace(\"\\n\", \"\").strip()\n",
    "        except:\n",
    "            salary = 'N/A'\n",
    "        \n",
    "        try:\n",
    "            posted = soup.find(class_=\"date\").text\n",
    "        except:\n",
    "            posted = 'N/A'\n",
    "            \n",
    "        articles = soup.find_all('div', class_='sjcl')\n",
    "        try: \n",
    "            for article in articles:\n",
    "                a = article.find('a', class_='turnstileLink')['href']\n",
    "        except:\n",
    "            a = 'N/A'\n",
    "        \n",
    "\n",
    "        jobs = jobs.append({'Title':title, 'Salary': salary, 'Location': location, 'Company': company, 'Since':posted, 'Company Url': a}, ignore_index=True)"
   ]
  },
  {
   "cell_type": "code",
   "execution_count": 7,
   "metadata": {},
   "outputs": [],
   "source": [
    "# Get some info from the companies \n",
    "\n",
    "company_url = jobs['Company Url']\n",
    "\n",
    "base_url = 'https://www.indeed.nl'\n",
    "\n",
    "industries = []\n",
    "company_size = []\n",
    "\n",
    "for url in company_url:  \n",
    "    if url != \"N/A\":\n",
    "        html = requests.get(base_url+url).content \n",
    "        soup = BeautifulSoup(html, \"lxml\") \n",
    "    \n",
    "        company_info = soup.find_all('div', class_=\"cmp-AboutMetadata-itemInner\")        \n",
    "        industry = 'N/A'\n",
    "        size = 'N/A'\n",
    "\n",
    "        for info in company_info:\n",
    "            if re.search('Branche', str(info)):\n",
    "                industry = info.text.split('Branche')[1]   \n",
    "            if re.search('Medewerkers', str(info)):\n",
    "                size = info.text.split('Medewerkers')[1]\n",
    "        \n",
    "        industries.append(industry)\n",
    "        company_size.append(size)\n",
    "           \n",
    "    else:\n",
    "        industries.append(\"N/A\")\n",
    "        company_size.append(\"N/A\")"
   ]
  },
  {
   "cell_type": "code",
   "execution_count": 8,
   "metadata": {},
   "outputs": [],
   "source": [
    "# Append company information\n",
    "jobs['Industry'] = industries\n",
    "jobs['Company size'] = company_size"
   ]
  },
  {
   "cell_type": "code",
   "execution_count": 9,
   "metadata": {},
   "outputs": [
    {
     "data": {
      "text/html": [
       "<div>\n",
       "<style scoped>\n",
       "    .dataframe tbody tr th:only-of-type {\n",
       "        vertical-align: middle;\n",
       "    }\n",
       "\n",
       "    .dataframe tbody tr th {\n",
       "        vertical-align: top;\n",
       "    }\n",
       "\n",
       "    .dataframe thead th {\n",
       "        text-align: right;\n",
       "    }\n",
       "</style>\n",
       "<table border=\"1\" class=\"dataframe\">\n",
       "  <thead>\n",
       "    <tr style=\"text-align: right;\">\n",
       "      <th></th>\n",
       "      <th>Title</th>\n",
       "      <th>Location</th>\n",
       "      <th>Company</th>\n",
       "      <th>Salary</th>\n",
       "      <th>Since</th>\n",
       "      <th>Description</th>\n",
       "      <th>Company Url</th>\n",
       "      <th>Industry</th>\n",
       "      <th>Company size</th>\n",
       "    </tr>\n",
       "  </thead>\n",
       "  <tbody>\n",
       "    <tr>\n",
       "      <th>0</th>\n",
       "      <td>CUSTOMS ADVISOR DATA ANALIST BREDA</td>\n",
       "      <td>Breda</td>\n",
       "      <td>DHL</td>\n",
       "      <td>€2.900 - €3.500 per maand</td>\n",
       "      <td>Net geplaatst</td>\n",
       "      <td>NaN</td>\n",
       "      <td>/cmp/DHL</td>\n",
       "      <td>Transport en vrachtvervoer</td>\n",
       "      <td>Meer dan 10.000</td>\n",
       "    </tr>\n",
       "    <tr>\n",
       "      <th>1</th>\n",
       "      <td>Specialist Business Intelligence (BI)</td>\n",
       "      <td>Rotterdam</td>\n",
       "      <td>Milgro</td>\n",
       "      <td>N/A</td>\n",
       "      <td>Net geplaatst</td>\n",
       "      <td>NaN</td>\n",
       "      <td>/cmp/Milgro</td>\n",
       "      <td>N/A</td>\n",
       "      <td>N/A</td>\n",
       "    </tr>\n",
       "    <tr>\n",
       "      <th>2</th>\n",
       "      <td>Business Intelligence Analist</td>\n",
       "      <td>Nieuwegein</td>\n",
       "      <td>Fysioholland</td>\n",
       "      <td>N/A</td>\n",
       "      <td>Net geplaatst</td>\n",
       "      <td>NaN</td>\n",
       "      <td>/cmp/Fysioholland</td>\n",
       "      <td>N/A</td>\n",
       "      <td>N/A</td>\n",
       "    </tr>\n",
       "    <tr>\n",
       "      <th>3</th>\n",
       "      <td>Digital Analyst</td>\n",
       "      <td>Rijswijk</td>\n",
       "      <td>TUI Nederland N.V.</td>\n",
       "      <td>N/A</td>\n",
       "      <td>Net geplaatst</td>\n",
       "      <td>NaN</td>\n",
       "      <td>/cmp/Tui-Group</td>\n",
       "      <td>Restaurants, reizen en vrije tijd</td>\n",
       "      <td>Meer dan 10.000</td>\n",
       "    </tr>\n",
       "    <tr>\n",
       "      <th>4</th>\n",
       "      <td>Data analist parttime</td>\n",
       "      <td>Amsterdam</td>\n",
       "      <td>Work-on</td>\n",
       "      <td>€11 - €13 per uur</td>\n",
       "      <td>Net geplaatst</td>\n",
       "      <td>NaN</td>\n",
       "      <td>/cmp/Work--on</td>\n",
       "      <td>Human resources en personeel</td>\n",
       "      <td>11 tot 50</td>\n",
       "    </tr>\n",
       "  </tbody>\n",
       "</table>\n",
       "</div>"
      ],
      "text/plain": [
       "                                   Title    Location             Company  \\\n",
       "0     CUSTOMS ADVISOR DATA ANALIST BREDA       Breda                 DHL   \n",
       "1  Specialist Business Intelligence (BI)   Rotterdam              Milgro   \n",
       "2          Business Intelligence Analist  Nieuwegein        Fysioholland   \n",
       "3                        Digital Analyst    Rijswijk  TUI Nederland N.V.   \n",
       "4                  Data analist parttime   Amsterdam             Work-on   \n",
       "\n",
       "                      Salary          Since Description        Company Url  \\\n",
       "0  €2.900 - €3.500 per maand  Net geplaatst         NaN           /cmp/DHL   \n",
       "1                        N/A  Net geplaatst         NaN        /cmp/Milgro   \n",
       "2                        N/A  Net geplaatst         NaN  /cmp/Fysioholland   \n",
       "3                        N/A  Net geplaatst         NaN     /cmp/Tui-Group   \n",
       "4          €11 - €13 per uur  Net geplaatst         NaN      /cmp/Work--on   \n",
       "\n",
       "                            Industry     Company size  \n",
       "0         Transport en vrachtvervoer  Meer dan 10.000  \n",
       "1                                N/A              N/A  \n",
       "2                                N/A              N/A  \n",
       "3  Restaurants, reizen en vrije tijd  Meer dan 10.000  \n",
       "4       Human resources en personeel        11 tot 50  "
      ]
     },
     "execution_count": 9,
     "metadata": {},
     "output_type": "execute_result"
    }
   ],
   "source": [
    "jobs.head()"
   ]
  },
  {
   "cell_type": "code",
   "execution_count": 10,
   "metadata": {},
   "outputs": [],
   "source": [
    "jobs.to_csv('jobs_all_base.csv', index=False)"
   ]
  },
  {
   "cell_type": "code",
   "execution_count": 11,
   "metadata": {},
   "outputs": [
    {
     "data": {
      "text/plain": [
       "1500"
      ]
     },
     "execution_count": 11,
     "metadata": {},
     "output_type": "execute_result"
    }
   ],
   "source": [
    "len(jobs)"
   ]
  }
 ],
 "metadata": {
  "kernelspec": {
   "display_name": "Python 3",
   "language": "python",
   "name": "python3"
  },
  "language_info": {
   "codemirror_mode": {
    "name": "ipython",
    "version": 3
   },
   "file_extension": ".py",
   "mimetype": "text/x-python",
   "name": "python",
   "nbconvert_exporter": "python",
   "pygments_lexer": "ipython3",
   "version": "3.7.6"
  }
 },
 "nbformat": 4,
 "nbformat_minor": 4
}
